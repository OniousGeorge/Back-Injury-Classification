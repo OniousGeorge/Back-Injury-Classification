{
 "cells": [
  {
   "cell_type": "code",
   "execution_count": 71,
   "metadata": {},
   "outputs": [],
   "source": [
    "import numpy as np"
   ]
  },
  {
   "cell_type": "code",
   "execution_count": 72,
   "metadata": {},
   "outputs": [
    {
     "name": "stdout",
     "output_type": "stream",
     "text": [
      "(248, 6)\n",
      "248\n"
     ]
    }
   ],
   "source": [
    "labels = [b'NO', b'DH', b'SL']\n",
    "data = np.loadtxt('column_3C.dat', converters={6: lambda s: labels.index(s)})\n",
    "\n",
    "x = data[:,0:6]\n",
    "y=data[:,6]\n",
    "\n",
    "training_indices = list(range(0,20)) + list(range(40,188)) + list(range(230,310))\n",
    "test_indices = list(range(20,40)) + list(range(188, 230))\n",
    "\n",
    "trainx = x[training_indices,:]\n",
    "trainy = y[training_indices]\n",
    "testx = x[test_indices]\n",
    "testy = y[test_indices]\n",
    "\n",
    "print(np.shape(trainx))\n",
    "print(len(trainy))"
   ]
  },
  {
   "cell_type": "code",
   "execution_count": 73,
   "metadata": {},
   "outputs": [
    {
     "data": {
      "text/plain": [
       "1879.5791000000006"
      ]
     },
     "execution_count": 73,
     "metadata": {},
     "output_type": "execute_result"
    }
   ],
   "source": [
    "#Straight From the NumpyDemo\n",
    "def squared_dist(x_vect, y_vect):\n",
    "    return(np.sum(np.square(x_vect - y_vect)))\n",
    "\n",
    "\n",
    "squared_dist(trainx[0,],testx[0,])"
   ]
  },
  {
   "cell_type": "code",
   "execution_count": 75,
   "metadata": {},
   "outputs": [
    {
     "name": "stdout",
     "output_type": "stream",
     "text": [
      "65.8469\n"
     ]
    }
   ],
   "source": [
    "# Broke the NN_L2 function into individual pieces that I found in the demo\n",
    "def fNN_L2(x):\n",
    "    distances = [squared_dist(x, trainx[i]) for i in range(len(trainy))]\n",
    "    return distances[np.argmin(distances)]\n",
    "\n",
    "def NN_classifier(x):\n",
    "    index=fNN_L2(x)\n",
    "    return trainy[index]\n",
    "\n",
    "print(fNN_L2(testx[5]))\n"
   ]
  },
  {
   "cell_type": "code",
   "execution_count": 76,
   "metadata": {},
   "outputs": [
    {
     "name": "stdout",
     "output_type": "stream",
     "text": [
      "<class 'numpy.ndarray'>\n",
      "62\n",
      "[2. 2. 1. 0. 0. 0. 0. 0. 0. 0.]\n"
     ]
    }
   ],
   "source": [
    "\n",
    "# Mushed them together\n",
    "def NN_L2(xvect, yvect, zvect):\n",
    "    predict=[]\n",
    "    for z in zvect:\n",
    "        distances = [squared_dist(z, xvect[i]) for i in range(len(yvect))]\n",
    "        index=np.argmin(distances)\n",
    "        predict.append(yvect[index])\n",
    "    return np.array(predict)\n",
    "\n",
    "testy_L2=NN_L2(trainx, trainy, testx)\n",
    "\n",
    "print( type( testy_L2) )\n",
    "print( len(testy_L2) )\n",
    "print( testy_L2[40:50] )\n",
    "\n"
   ]
  },
  {
   "cell_type": "code",
   "execution_count": 77,
   "metadata": {},
   "outputs": [],
   "source": [
    "testy_L2 = NN_L2(trainx, trainy, testx)\n",
    "\n",
    "assert( type( testy_L2).__name__ == 'ndarray' )\n",
    "assert( len(testy_L2) == 62 ) \n",
    "assert( np.all( testy_L2[50:60] == [ 0.,  0.,  0.,  0.,  2.,  0.,  2.,  0.,  0.,  0.] )  )\n",
    "assert( np.all( testy_L2[0:10] == [ 0.,  0.,  0.,  1.,  1.,  0.,  1.,  0.,  0.,  1.] ) )"
   ]
  },
  {
   "cell_type": "code",
   "execution_count": 78,
   "metadata": {},
   "outputs": [
    {
     "name": "stdout",
     "output_type": "stream",
     "text": [
      "L1 Output: \n",
      " [0. 0. 0. 0. 1. 0. 1. 0. 0. 1. 0. 1. 0. 1. 1. 1. 1. 0. 1. 1. 2. 2. 2. 2.\n",
      " 2. 2. 2. 2. 2. 2. 2. 2. 2. 2. 2. 2. 2. 2. 2. 2. 2. 2. 0. 0. 0. 0. 0. 0.\n",
      " 0. 0. 0. 2. 1. 0. 2. 0. 0. 0. 0. 0. 1. 0.]\n",
      "L2 Output: \n",
      " [0. 0. 0. 1. 1. 0. 1. 0. 0. 1. 0. 1. 0. 0. 1. 1. 1. 0. 1. 1. 2. 2. 2. 2.\n",
      " 2. 2. 2. 2. 2. 2. 2. 2. 2. 2. 2. 2. 2. 2. 2. 2. 2. 2. 1. 0. 0. 0. 0. 0.\n",
      " 0. 0. 0. 0. 0. 0. 2. 0. 2. 0. 0. 0. 0. 0.]\n"
     ]
    }
   ],
   "source": [
    "#Followed the same formula for the NN_L2 function \n",
    "#but switched the formula \n",
    "def L1(a,b):\n",
    "    dist= np.sum(np.absolute(a-b))\n",
    "    return np.array(dist)\n",
    "\n",
    "def NN_L1(xvect, yvect, zvect):\n",
    "    predict=[]\n",
    "    for z in zvect:\n",
    "        distances = [L1(z, xvect[i]) for i in range(len(yvect))]\n",
    "        index=np.argmin(distances)\n",
    "        predict.append(yvect[index])\n",
    "    return np.array(predict)\n",
    "\n",
    "\n",
    "print(\"L1 Output: \\n\", NN_L1(trainx, trainy, testx))\n",
    "print(\"L2 Output: \\n\", NN_L2(trainx, trainy, testx))\n",
    "\n",
    "\n"
   ]
  },
  {
   "cell_type": "code",
   "execution_count": 79,
   "metadata": {},
   "outputs": [],
   "source": [
    "testy_L1 = NN_L1(trainx, trainy, testx)\n",
    "testy_L2 = NN_L2(trainx, trainy, testx)\n",
    "\n",
    "assert( type( testy_L1).__name__ == 'ndarray' )\n",
    "assert( len(testy_L1) == 62 ) \n",
    "assert( not all(testy_L1 == testy_L2) )\n",
    "assert( all(testy_L1[50:60]== [ 0.,  2.,  1.,  0.,  2.,  0.,  0.,  0.,  0.,  0.]) )\n",
    "assert( all( testy_L1[0:10] == [ 0.,  0.,  0.,  0.,  1.,  0.,  1.,  0.,  0.,  1.]) )"
   ]
  },
  {
   "cell_type": "code",
   "execution_count": 80,
   "metadata": {},
   "outputs": [
    {
     "name": "stdout",
     "output_type": "stream",
     "text": [
      "Error rate of NN_L1:  0.22580645161290322\n",
      "Error rate of NN_L2:  0.20967741935483872\n"
     ]
    }
   ],
   "source": [
    "def error_rate(testy, testy_fit):\n",
    "    return float(sum(testy!=testy_fit))/len(testy) \n",
    "\n",
    "print(\"Error rate of NN_L1: \", error_rate(testy,testy_L1) )\n",
    "print(\"Error rate of NN_L2: \", error_rate(testy,testy_L2) )\n"
   ]
  },
  {
   "cell_type": "code",
   "execution_count": 65,
   "metadata": {},
   "outputs": [
    {
     "name": "stdout",
     "output_type": "stream",
     "text": [
      "(62,)\n",
      "(62,)\n"
     ]
    }
   ],
   "source": [
    "print(np.shape(testy))\n",
    "print(np.shape(testy_L2))"
   ]
  },
  {
   "cell_type": "code",
   "execution_count": 92,
   "metadata": {},
   "outputs": [
    {
     "name": "stdout",
     "output_type": "stream",
     "text": [
      "<class 'numpy.ndarray'>\n",
      "(3, 3)\n",
      "[[17  1  2]\n",
      " [10 10  0]\n",
      " [ 0  0 22]]\n"
     ]
    }
   ],
   "source": [
    "def confusion(testy, testy_L2):\n",
    "    #intialized a 3x3 array full of zeros\n",
    "    matrix = np.zeros((3,3), dtype=int)\n",
    "    # Cannot be used as indices if it is not an int\n",
    "    testy=testy.astype(int)\n",
    "    testy_L2=testy_L2.astype(int)\n",
    "    for tes, ty in zip(testy, testy_L2):\n",
    "        # adds 1 to each point in the matrix \n",
    "        # at the specific location of [tes,ty]\n",
    "        matrix[tes, ty] +=1\n",
    "    return matrix\n",
    "\n",
    "L2_neo=confusion(testy, testy_L2)\n",
    "print(type(L2_neo))\n",
    "print(L2_neo.shape)\n",
    "print(L2_neo)\n"
   ]
  },
  {
   "cell_type": "code",
   "execution_count": 95,
   "metadata": {},
   "outputs": [
    {
     "name": "stdout",
     "output_type": "stream",
     "text": [
      "[[16  2  2]\n",
      " [10 10  0]\n",
      " [ 0  0 22]]\n",
      "______________________________________\n",
      "[[17  1  2]\n",
      " [10 10  0]\n",
      " [ 0  0 22]]\n"
     ]
    }
   ],
   "source": [
    "L1_neo = confusion(testy, testy_L1) \n",
    "assert( type(L1_neo).__name__ == 'ndarray' )\n",
    "assert( L1_neo.shape == (3,3) )\n",
    "assert( np.all(L1_neo == [[ 16.,  2.,  2.],[ 10.,  10.,  0.],[ 0.,  0.,  22.]]) )\n",
    "L2_neo = confusion(testy, testy_L2)  \n",
    "assert( np.all(L2_neo == [[ 17.,  1.,  2.],[ 10.,  10.,  0.],[ 0.,  0.,  22.]]) )\n",
    "print(L1_neo)\n",
    "print(\"______________________________________\")\n",
    "print(L2_neo)"
   ]
  }
 ],
 "metadata": {
  "kernelspec": {
   "display_name": "base",
   "language": "python",
   "name": "python3"
  },
  "language_info": {
   "codemirror_mode": {
    "name": "ipython",
    "version": 3
   },
   "file_extension": ".py",
   "mimetype": "text/x-python",
   "name": "python",
   "nbconvert_exporter": "python",
   "pygments_lexer": "ipython3",
   "version": "3.12.4"
  }
 },
 "nbformat": 4,
 "nbformat_minor": 2
}
